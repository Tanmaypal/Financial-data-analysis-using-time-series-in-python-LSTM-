{
  "nbformat": 4,
  "nbformat_minor": 0,
  "metadata": {
    "colab": {
      "name": "AI_FA_Session_1.ipynb",
      "provenance": [],
      "collapsed_sections": []
    },
    "kernelspec": {
      "name": "python3",
      "display_name": "Python 3"
    }
  },
  "cells": [
    {
      "cell_type": "code",
      "metadata": {
        "id": "olIrazmL99M1",
        "colab_type": "code",
        "colab": {
          "base_uri": "https://localhost:8080/",
          "height": 72
        },
        "outputId": "9b3d631c-ea6b-4d6b-9214-bc59c147033d"
      },
      "source": [
        "import pandas as pd\n",
        "import numpy as np\n",
        "import matplotlib.pyplot as plt\n",
        "import os\n",
        "import statsmodels.api as sm\n",
        "import statsmodels.tsa.stattools as st\n",
        "%matplotlib inline\n",
        "from matplotlib.pyplot import figure"
      ],
      "execution_count": null,
      "outputs": [
        {
          "output_type": "stream",
          "text": [
            "/usr/local/lib/python3.6/dist-packages/statsmodels/tools/_testing.py:19: FutureWarning: pandas.util.testing is deprecated. Use the functions in the public API at pandas.testing instead.\n",
            "  import pandas.util.testing as tm\n"
          ],
          "name": "stderr"
        }
      ]
    },
    {
      "cell_type": "code",
      "metadata": {
        "id": "6MDsUepFScAz",
        "colab_type": "code",
        "colab": {}
      },
      "source": [
        "mydata_df = pd.read_csv(\"seasonal_trend.csv\", header=0, names=['year', 'sales'], parse_dates=[0], index_col=0)"
      ],
      "execution_count": null,
      "outputs": []
    },
    {
      "cell_type": "code",
      "metadata": {
        "id": "qeRS48-mTHD9",
        "colab_type": "code",
        "colab": {
          "base_uri": "https://localhost:8080/",
          "height": 35
        },
        "outputId": "fca659c5-222c-4e76-e963-5a3195a94d21"
      },
      "source": [
        "type(mydata_df)"
      ],
      "execution_count": null,
      "outputs": [
        {
          "output_type": "execute_result",
          "data": {
            "text/plain": [
              "pandas.core.frame.DataFrame"
            ]
          },
          "metadata": {
            "tags": []
          },
          "execution_count": 4
        }
      ]
    },
    {
      "cell_type": "code",
      "metadata": {
        "id": "J7S1kwl_TLBL",
        "colab_type": "code",
        "colab": {}
      },
      "source": [
        "mydata_df.sales"
      ],
      "execution_count": null,
      "outputs": []
    },
    {
      "cell_type": "code",
      "metadata": {
        "id": "V4atV8qlTTmv",
        "colab_type": "code",
        "colab": {}
      },
      "source": [
        "mydata_df1 = mydata_df['sales']"
      ],
      "execution_count": null,
      "outputs": []
    },
    {
      "cell_type": "code",
      "metadata": {
        "id": "gV57KSkkTf4X",
        "colab_type": "code",
        "colab": {}
      },
      "source": [
        "mydata_df1.head()"
      ],
      "execution_count": null,
      "outputs": []
    },
    {
      "cell_type": "code",
      "metadata": {
        "id": "ByORSbytTmyB",
        "colab_type": "code",
        "colab": {}
      },
      "source": [
        "mydatats = pd.Series(mydata_df['sales'].values, index = pd.date_range('11/01/2005', periods= 175, freq='M'))"
      ],
      "execution_count": null,
      "outputs": []
    },
    {
      "cell_type": "code",
      "metadata": {
        "id": "YHkGtrIoUzjl",
        "colab_type": "code",
        "colab": {}
      },
      "source": [
        "mydatats"
      ],
      "execution_count": null,
      "outputs": []
    },
    {
      "cell_type": "code",
      "metadata": {
        "id": "Wssh6U0_UlwA",
        "colab_type": "code",
        "colab": {}
      },
      "source": [
        "import matplotlib.pyplot as plt\n",
        "from matplotlib.pyplot import figure\n",
        "plt.figure(figsize=(12, 5))\n",
        "mydatats.plot()"
      ],
      "execution_count": null,
      "outputs": []
    },
    {
      "cell_type": "code",
      "metadata": {
        "id": "-bXA2yBbVwPq",
        "colab_type": "code",
        "colab": {}
      },
      "source": [
        "plt.figure(figsize=(12, 5))\n",
        "mydatats.plot()\n",
        "plt.title('Sales of Gold from 2006 to 2020')\n",
        "plt.xlabel('YEAR')\n",
        "plt.ylabel('Sales of Gold')\n",
        "plt.legend(['Gold'])"
      ],
      "execution_count": null,
      "outputs": []
    },
    {
      "cell_type": "code",
      "metadata": {
        "id": "I-yjXgfGXGgz",
        "colab_type": "code",
        "colab": {}
      },
      "source": [
        "cumsum_mydatats = np.cumsum(mydatats)\n",
        "cumsum_mydatats.head(10)"
      ],
      "execution_count": null,
      "outputs": []
    },
    {
      "cell_type": "code",
      "metadata": {
        "id": "EpVquQvwCt9B",
        "colab_type": "code",
        "colab": {}
      },
      "source": [
        "plt.figure(figsize=(12,4))\n",
        "plt.plot(mydatats)\n",
        "plt.plot(cumsum_mydatats)\n",
        "plt.title('sales of Gold')\n",
        "plt.xlabel('Year')\n",
        "plt.ylabel('Gold Sales figure')\n",
        "plt.legend(['sales', 'cum.sales'])"
      ],
      "execution_count": null,
      "outputs": []
    },
    {
      "cell_type": "code",
      "metadata": {
        "id": "kRBDSecZGfsv",
        "colab_type": "code",
        "colab": {}
      },
      "source": [
        "plt.figure(figsize=(12,6))\n",
        "plt.subplot(2, 1, 1)\n",
        "plt.plot(mydatats)\n",
        "plt.title('Gold price')\n",
        "\n",
        "plt.subplot(2, 1, 2)\n",
        "plt.plot(cumsum_mydatats)\n",
        "plt.title('Cum.Gold Sales')\n",
        "plt.tight_layout()"
      ],
      "execution_count": null,
      "outputs": []
    },
    {
      "cell_type": "markdown",
      "metadata": {
        "id": "Z7GMwtWaID5V",
        "colab_type": "text"
      },
      "source": [
        "Ewponentially Weighted Moving Average(EWMA)"
      ]
    },
    {
      "cell_type": "code",
      "metadata": {
        "id": "zmhDtdesHzBT",
        "colab_type": "code",
        "colab": {}
      },
      "source": [
        "def plot_ewma(timeseries, alpha):\n",
        "  exw_ma = timeseries.ewm(alpha=alpha).mean()\n",
        "\n",
        "  fig = plt.figure(figsize=(12,6))\n",
        "  org_line = plt.plot(timeseries, color = \"blue\", label = \"original\")\n",
        "  exwma_line = plt.plot(exw_ma, color = \"red\", label = \"EWMA\")\n",
        "  plt.legend(loc = \"best\")\n",
        "  plt.title(\"EWMA - alpha = {}\".format(alpha))\n",
        "  plt.show()"
      ],
      "execution_count": null,
      "outputs": []
    },
    {
      "cell_type": "code",
      "metadata": {
        "id": "NXvb37GYKPfB",
        "colab_type": "code",
        "colab": {}
      },
      "source": [
        "plot_ewma(mydatats, 0.45)"
      ],
      "execution_count": null,
      "outputs": []
    },
    {
      "cell_type": "code",
      "metadata": {
        "id": "0JkTYB58KWb6",
        "colab_type": "code",
        "colab": {}
      },
      "source": [
        "def plot_ewma(timeseries, alpha):\n",
        "  exw_ma = timeseries.ewm(alpha=alpha).mean()\n",
        "\n",
        "  fig = plt.figure(figsize=(12,6))\n",
        "  org_line = plt.plot(timeseries, color = \"blue\", label = \"original\")\n",
        "  exwma_line = plt.plot(exw_ma, color = \"red\", label = \"EWMA\")\n",
        "  plt.legend(loc = \"best\")\n",
        "  plt.title(\"EWMA - alpha = \" +str(alpha)+ \")\")\n",
        "  plt.show()"
      ],
      "execution_count": null,
      "outputs": []
    },
    {
      "cell_type": "code",
      "metadata": {
        "id": "jyT_W6SKLrD4",
        "colab_type": "code",
        "colab": {}
      },
      "source": [
        "plot_ewma(mydatats, 0.65)"
      ],
      "execution_count": null,
      "outputs": []
    },
    {
      "cell_type": "code",
      "metadata": {
        "id": "H7rBkzegMC30",
        "colab_type": "code",
        "colab": {}
      },
      "source": [
        ""
      ],
      "execution_count": null,
      "outputs": []
    },
    {
      "cell_type": "markdown",
      "metadata": {
        "id": "cdJKZhHbMDRM",
        "colab_type": "text"
      },
      "source": [
        "**Seasonal Decomposition**"
      ]
    },
    {
      "cell_type": "code",
      "metadata": {
        "id": "i2FI0_NWMGnR",
        "colab_type": "code",
        "colab": {}
      },
      "source": [
        "from statsmodels.tsa.seasonal import  seasonal_decompose\n",
        "decom_mydatats = seasonal_decompose(mydatats)\n",
        "decom_plot = decom_mydatats.plot()"
      ],
      "execution_count": null,
      "outputs": []
    },
    {
      "cell_type": "code",
      "metadata": {
        "id": "zo9Ny2dFNutY",
        "colab_type": "code",
        "colab": {}
      },
      "source": [
        "decom_mydatats.trend.head(20)"
      ],
      "execution_count": null,
      "outputs": []
    },
    {
      "cell_type": "code",
      "metadata": {
        "id": "hIPc-dx3Oa2u",
        "colab_type": "code",
        "colab": {}
      },
      "source": [
        "decom_mydatats.resid.head(20)"
      ],
      "execution_count": null,
      "outputs": []
    },
    {
      "cell_type": "code",
      "metadata": {
        "id": "IGREyqunOo5h",
        "colab_type": "code",
        "colab": {}
      },
      "source": [
        "decom_mydatats.seasonal.head(20)"
      ],
      "execution_count": null,
      "outputs": []
    },
    {
      "cell_type": "code",
      "metadata": {
        "id": "BXKpm2CfOvgK",
        "colab_type": "code",
        "colab": {}
      },
      "source": [
        "len(mydatats)"
      ],
      "execution_count": null,
      "outputs": []
    },
    {
      "cell_type": "code",
      "metadata": {
        "id": "w4HE3c4IPNB5",
        "colab_type": "code",
        "colab": {}
      },
      "source": [
        "decom_mydatats1 = seasonal_decompose(mydatats, model = 'multiplicative')\n",
        "decom_plot1 = decom_mydatats1.plot()"
      ],
      "execution_count": null,
      "outputs": []
    },
    {
      "cell_type": "code",
      "metadata": {
        "id": "d171722nQCZl",
        "colab_type": "code",
        "colab": {}
      },
      "source": [
        "decom_mydatats1.seasonal.head(20)"
      ],
      "execution_count": null,
      "outputs": []
    },
    {
      "cell_type": "code",
      "metadata": {
        "id": "Mwm-tsiIQSCu",
        "colab_type": "code",
        "colab": {}
      },
      "source": [
        "decom_mydatats1.trend.head(20)"
      ],
      "execution_count": null,
      "outputs": []
    },
    {
      "cell_type": "code",
      "metadata": {
        "id": "_oPaEdG5Qdxi",
        "colab_type": "code",
        "colab": {}
      },
      "source": [
        "decom_mydatats1.resid.head(20)"
      ],
      "execution_count": null,
      "outputs": []
    },
    {
      "cell_type": "markdown",
      "metadata": {
        "id": "dwUv3XLzdtkp",
        "colab_type": "text"
      },
      "source": [
        "STL Decomposition"
      ]
    },
    {
      "cell_type": "code",
      "metadata": {
        "id": "GpLW65J5dckH",
        "colab_type": "code",
        "colab": {}
      },
      "source": [
        "pip install stldecompose\n"
      ],
      "execution_count": null,
      "outputs": []
    },
    {
      "cell_type": "code",
      "metadata": {
        "id": "1F1DZliSdrdf",
        "colab_type": "code",
        "colab": {}
      },
      "source": [
        "from stldecompose import decompose\n",
        "mydatats_stl = decompose(mydatats, period = 12)\n",
        "mydatats_stl.trend.head(10)"
      ],
      "execution_count": null,
      "outputs": []
    },
    {
      "cell_type": "code",
      "metadata": {
        "id": "9IvgrHG8gYgI",
        "colab_type": "code",
        "colab": {}
      },
      "source": [
        "mydatats_stl.seasonal.head(10)"
      ],
      "execution_count": null,
      "outputs": []
    },
    {
      "cell_type": "code",
      "metadata": {
        "id": "cJVesP9UeN69",
        "colab_type": "code",
        "colab": {}
      },
      "source": [
        "plt.figure(figsize=(12,6))\n",
        "stl_plot = mydatats_stl.plot()"
      ],
      "execution_count": null,
      "outputs": []
    },
    {
      "cell_type": "code",
      "metadata": {
        "id": "hTL9LsWyfIVu",
        "colab_type": "code",
        "colab": {}
      },
      "source": [
        ""
      ],
      "execution_count": null,
      "outputs": []
    },
    {
      "cell_type": "markdown",
      "metadata": {
        "id": "1RgQ2CtOfkuY",
        "colab_type": "text"
      },
      "source": [
        "Find out the seasonally adjusted series"
      ]
    },
    {
      "cell_type": "code",
      "metadata": {
        "id": "kALoV-YVfoYF",
        "colab_type": "code",
        "colab": {}
      },
      "source": [
        "mydatats_adj = mydatats - mydatats_stl.seasonal\n",
        "plt.figure(figsize=(12,6))\n",
        "mydatats_adj.plot()"
      ],
      "execution_count": null,
      "outputs": []
    },
    {
      "cell_type": "code",
      "metadata": {
        "id": "a-4-VZfggJps",
        "colab_type": "code",
        "colab": {}
      },
      "source": [
        "plt.figure(figsize=(12,6))\n",
        "mydatats.plot()"
      ],
      "execution_count": null,
      "outputs": []
    },
    {
      "cell_type": "code",
      "metadata": {
        "id": "4U-lqmmlgTbP",
        "colab_type": "code",
        "colab": {}
      },
      "source": [
        "mydatats_adj1 = mydatats - mydatats_stl.trend\n",
        "plt.figure(figsize=(12,4))\n",
        "mydatats_adj1.plot()"
      ],
      "execution_count": null,
      "outputs": []
    },
    {
      "cell_type": "code",
      "metadata": {
        "id": "AWcDfZWxiFkQ",
        "colab_type": "code",
        "colab": {}
      },
      "source": [
        "mydatats_adj2 = mydatats_adj - mydatats_stl.trend - mydatats_stl.seasonal\n",
        "plt.figure(figsize=(12,4))\n",
        "mydatats_adj2.plot()"
      ],
      "execution_count": null,
      "outputs": []
    },
    {
      "cell_type": "code",
      "metadata": {
        "id": "9lSyGzv9ityc",
        "colab_type": "code",
        "colab": {}
      },
      "source": [
        "mydatats_adj2.head(15)"
      ],
      "execution_count": null,
      "outputs": []
    },
    {
      "cell_type": "code",
      "metadata": {
        "id": "S5QmQtINivxi",
        "colab_type": "code",
        "colab": {}
      },
      "source": [
        "mydatats_adj2.mean()"
      ],
      "execution_count": null,
      "outputs": []
    },
    {
      "cell_type": "code",
      "metadata": {
        "id": "W7_avzYXiyQX",
        "colab_type": "code",
        "colab": {}
      },
      "source": [
        "mydatats_adj2.std()"
      ],
      "execution_count": null,
      "outputs": []
    },
    {
      "cell_type": "markdown",
      "metadata": {
        "id": "slelI92ejjaA",
        "colab_type": "text"
      },
      "source": [
        "Use this decomposed time series to forecast"
      ]
    },
    {
      "cell_type": "code",
      "metadata": {
        "id": "JrKMqYhTklqd",
        "colab_type": "code",
        "colab": {}
      },
      "source": [
        "len(mydatats)"
      ],
      "execution_count": null,
      "outputs": []
    },
    {
      "cell_type": "code",
      "metadata": {
        "id": "CFMVaQ57i2fI",
        "colab_type": "code",
        "colab": {}
      },
      "source": [
        "from stldecompose import decompose, forecast\n",
        "from stldecompose.forecast_funcs import (naive, drift, mean, seasonal_naive)\n",
        "mydatats_stl = decompose(mydatats, period= 8)\n",
        "mydatats_f = forecast(mydatats_stl, steps = 25, fc_func= mean, seasonal= True )\n",
        "mydatats_f.head()"
      ],
      "execution_count": null,
      "outputs": []
    },
    {
      "cell_type": "code",
      "metadata": {
        "id": "T7HKSD2wncLC",
        "colab_type": "code",
        "colab": {}
      },
      "source": [
        "len(mydatats_f1)"
      ],
      "execution_count": null,
      "outputs": []
    },
    {
      "cell_type": "code",
      "metadata": {
        "id": "KjOolLGJlRu-",
        "colab_type": "code",
        "colab": {}
      },
      "source": [
        "plt.figure(figsize=(12,6))\n",
        "plt.plot(mydatats, label = 'Gold Sales')\n",
        "plt.plot(mydatats_f1, label = mydatats_f1.columns[0])\n",
        "plt.legend()"
      ],
      "execution_count": null,
      "outputs": []
    },
    {
      "cell_type": "code",
      "metadata": {
        "id": "ai7cFO9UlXJT",
        "colab_type": "code",
        "colab": {}
      },
      "source": [
        "plt.figure(figsize=(12,6))\n",
        "plt.plot(mydatats, label = 'Gold Sales')\n",
        "plt.plot(mydatats_f1, label = 'Forecast')\n",
        "plt.legend()"
      ],
      "execution_count": null,
      "outputs": []
    },
    {
      "cell_type": "markdown",
      "metadata": {
        "id": "nZWtzjOUpNBZ",
        "colab_type": "text"
      },
      "source": [
        "Holt-Winter Exponential Smoothing"
      ]
    },
    {
      "cell_type": "code",
      "metadata": {
        "id": "-2tKRpMopRcW",
        "colab_type": "code",
        "colab": {}
      },
      "source": [
        "from statsmodels.tsa.holtwinters import ExponentialSmoothing\n",
        "mydatats_exp = ExponentialSmoothing(mydatats, seasonal = 'additive', seasonal_periods=12)\n",
        "mydatats_expfit = mydatats_exp.fit()\n",
        "mydatats_expfit.params['smoothing_level']\n"
      ],
      "execution_count": null,
      "outputs": []
    },
    {
      "cell_type": "code",
      "metadata": {
        "id": "GqcHUSlgq0a4",
        "colab_type": "code",
        "colab": {}
      },
      "source": [
        "mydatats_expfit.params['smoothing_seasonal']"
      ],
      "execution_count": null,
      "outputs": []
    },
    {
      "cell_type": "markdown",
      "metadata": {
        "id": "FZFrLnXorUiG",
        "colab_type": "text"
      },
      "source": [
        "Alpha = 0.035 # Alpha closer to zero implies smoother the series\n",
        "Gama = 0.96 # Gama closer to 1 imlies, seasonal cpmponent is quite strong"
      ]
    },
    {
      "cell_type": "code",
      "metadata": {
        "id": "gtixggTQrpBO",
        "colab_type": "code",
        "colab": {}
      },
      "source": [
        "mydatats_exp1 = ExponentialSmoothing(mydatats_adj2, seasonal = 'additive', seasonal_periods=13)\n",
        "mydatats_expfit1 = mydatats_exp1.fit()\n",
        "mydatats_expfit1.params['smoothing_level']"
      ],
      "execution_count": null,
      "outputs": []
    },
    {
      "cell_type": "code",
      "metadata": {
        "id": "pQy0pqOOszUy",
        "colab_type": "code",
        "colab": {}
      },
      "source": [
        "mydatats_expfit1.params['smoothing_seasonal']"
      ],
      "execution_count": null,
      "outputs": []
    },
    {
      "cell_type": "markdown",
      "metadata": {
        "id": "uBtpnEbHvDP9",
        "colab_type": "text"
      },
      "source": [
        "Note: You can findout the optimum Alpha and Optimum Gama by changing Seasonal_Periods. You an also apply multiple seasonal period of data after adjusting seasonality, trend etc.... "
      ]
    },
    {
      "cell_type": "markdown",
      "metadata": {
        "id": "rvlZENgRtYq0",
        "colab_type": "text"
      },
      "source": [
        "**Forecasting Gold Sales using Holt-Winter decomposition model**"
      ]
    },
    {
      "cell_type": "code",
      "metadata": {
        "id": "kdTHLm-ItTj0",
        "colab_type": "code",
        "colab": {}
      },
      "source": [
        "mydataexpf = mydatats_expfit.predict(start = 174, end = 200)\n",
        "plt.figure(figsize=(12,4))\n",
        "plt.plot(mydatats, label = \"sales\")\n",
        "plt.plot(mydataexpf, label = \"forecasted Sales\")\n",
        "plt.legend()"
      ],
      "execution_count": null,
      "outputs": []
    },
    {
      "cell_type": "markdown",
      "metadata": {
        "id": "MwdzWYAkyYMu",
        "colab_type": "text"
      },
      "source": [
        "Compare Forecast VS Actual data"
      ]
    },
    {
      "cell_type": "code",
      "metadata": {
        "id": "dIq3GR6QwSro",
        "colab_type": "code",
        "colab": {}
      },
      "source": [
        "plt.figure(figsize=(12,4))\n",
        "plt.plot(mydatats, label = 'Original Sales')\n",
        "plt.plot(mydatats_expfit.fittedvalues, label = \"Forecasted Sales\")\n",
        "plt.legend()"
      ],
      "execution_count": null,
      "outputs": []
    },
    {
      "cell_type": "code",
      "metadata": {
        "id": "GR6T7h01y8AJ",
        "colab_type": "code",
        "colab": {}
      },
      "source": [
        ""
      ],
      "execution_count": null,
      "outputs": []
    }
  ]
}